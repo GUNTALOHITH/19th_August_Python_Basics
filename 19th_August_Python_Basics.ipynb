{
 "cells": [
  {
   "cell_type": "code",
   "execution_count": 1,
   "id": "f12f8130-585f-47e0-84ba-25cbf455aa98",
   "metadata": {},
   "outputs": [],
   "source": [
    "# Topics : python basic variables"
   ]
  },
  {
   "cell_type": "code",
   "execution_count": 6,
   "id": "e3603122-ffac-4ce6-9cb4-287c2d7f556a",
   "metadata": {},
   "outputs": [
    {
     "name": "stdout",
     "output_type": "stream",
     "text": [
      "After swapping:\n",
      "x = 2\n",
      "y = 1\n"
     ]
    }
   ],
   "source": [
    "# #1. Declare two variables, `x` and `y`, and assign them integer values. Swap the\n",
    "# values of these variables without using any temporary variable.\n",
    "\n",
    "x,y = 1,2\n",
    "x = x+y\n",
    "y = x-y\n",
    "x= x-y\n",
    "print(\"After swapping:\")\n",
    "print(\"x =\", x)\n",
    "print(\"y =\", y)"
   ]
  },
  {
   "cell_type": "code",
   "execution_count": 10,
   "id": "2e60e7b7-bd11-41b3-890d-7cd35b37dff2",
   "metadata": {},
   "outputs": [
    {
     "name": "stdin",
     "output_type": "stream",
     "text": [
      "Enter the length 4\n",
      "Enter the width 2\n"
     ]
    },
    {
     "name": "stdout",
     "output_type": "stream",
     "text": [
      "area = 8\n"
     ]
    }
   ],
   "source": [
    "# 2. Create a program that calculates the area of a rectangle. Take the length and\n",
    "# width as inputs from the user and store them in variables. Calculate and\n",
    "# display the area.\n",
    "\n",
    "l = int(input(\"Enter the length\"))\n",
    "b = int(input(\"Enter the width\"))\n",
    "area = l*b\n",
    "print(\"area =\",area)\n"
   ]
  },
  {
   "cell_type": "code",
   "execution_count": 12,
   "id": "6ac12991-4946-43f1-bb42-0ffcc6016bd4",
   "metadata": {},
   "outputs": [
    {
     "name": "stdin",
     "output_type": "stream",
     "text": [
      "Enter the temperature in celsius:  200\n"
     ]
    },
    {
     "name": "stdout",
     "output_type": "stream",
     "text": [
      "Temperature in Fahrenheit:  392.0\n"
     ]
    }
   ],
   "source": [
    "# 3. Write a Python program that converts temperatures from Celsius to\n",
    "# Fahrenheit. Take the temperature in Celsius as input, store it in a variable,\n",
    "# convert it to Fahrenheit, and display the result.\n",
    "\n",
    "c = int(input(\"Enter the temperature in celsius: \"))\n",
    "f = (c*(9/5)+32)\n",
    "print(\"Temperature in Fahrenheit: \",f)"
   ]
  },
  {
   "cell_type": "markdown",
   "id": "3545f4fe-6fce-4e84-a54c-fccae0038781",
   "metadata": {},
   "source": [
    "String Based Questions\n"
   ]
  },
  {
   "cell_type": "code",
   "execution_count": 14,
   "id": "ce60c23c-9df6-4925-9209-e90f563e4e57",
   "metadata": {},
   "outputs": [
    {
     "name": "stdin",
     "output_type": "stream",
     "text": [
      "Enter the string : pw\n"
     ]
    },
    {
     "name": "stdout",
     "output_type": "stream",
     "text": [
      "entered length of string is :  2\n"
     ]
    }
   ],
   "source": [
    "# 1. Write a Python program that takes a string as input and prints the length of\n",
    "# the string.\n",
    "s = input(\"Enter the string :\")\n",
    "rev = len(s)\n",
    "print(\"entered length of string is : \",rev)"
   ]
  },
  {
   "cell_type": "code",
   "execution_count": 18,
   "id": "7e9c9cf6-e6cf-4685-b8af-f10b32bdbdaa",
   "metadata": {},
   "outputs": [
    {
     "name": "stdin",
     "output_type": "stream",
     "text": [
      "Enter a sentence: pwskills\n"
     ]
    },
    {
     "name": "stdout",
     "output_type": "stream",
     "text": [
      "The number of vowels are : 1\n"
     ]
    }
   ],
   "source": [
    "# 2. Create a program that takes a sentence from the user and counts the number\n",
    "# of vowels (a, e, i, o, u) in the string.\n",
    "\n",
    "s = input(\"Enter a sentence:\")\n",
    "vowels = \"aeiouAEIOU\"\n",
    "\n",
    "count = sum(s.count(vowel) for vowel in vowels)\n",
    "print(\"The number of vowels are :\",count)"
   ]
  },
  {
   "cell_type": "code",
   "execution_count": 19,
   "id": "b22aa6a2-4b54-4ee7-809a-2db9bbac9f74",
   "metadata": {},
   "outputs": [
    {
     "name": "stdin",
     "output_type": "stream",
     "text": [
      "enter a string pwskills\n"
     ]
    },
    {
     "name": "stdout",
     "output_type": "stream",
     "text": [
      "The reversed string is : sllikswp\n"
     ]
    }
   ],
   "source": [
    "# 3. Given a string, reverse the order of characters using string slicing and print\n",
    "# the reversed string.\n",
    "\n",
    "a = input(\"enter a string\")\n",
    "b = a[::-1]\n",
    "print(\"The reversed string is :\",b)\n"
   ]
  },
  {
   "cell_type": "code",
   "execution_count": 24,
   "id": "4fdcc1fa-7429-45da-a076-cc5b2d8956b1",
   "metadata": {},
   "outputs": [
    {
     "name": "stdin",
     "output_type": "stream",
     "text": [
      "Enter a string : madam\n"
     ]
    },
    {
     "name": "stdout",
     "output_type": "stream",
     "text": [
      "The given string is a palindrome\n"
     ]
    }
   ],
   "source": [
    "# 4. Write a program that takes a string as input and checks if it is a palindrome\n",
    "# (reads the same forwards and backwards).\n",
    "\n",
    "a = input(\"Enter a string :\")\n",
    "b = a[::-1]\n",
    "if a==b :\n",
    "    print(\"The given string is a palindrome\")\n",
    "else:\n",
    "    print(\"The given string is not a palindrome\")\n"
   ]
  },
  {
   "cell_type": "code",
   "execution_count": 26,
   "id": "256232d3-38f4-40b6-a29e-b11ae091ded8",
   "metadata": {},
   "outputs": [
    {
     "name": "stdin",
     "output_type": "stream",
     "text": [
      "Enter the string: I am a student\n"
     ]
    },
    {
     "name": "stdout",
     "output_type": "stream",
     "text": [
      "Modified string without spaces : Iamastudent\n"
     ]
    }
   ],
   "source": [
    "# 5. Create a program that takes a string as input and removes all the spaces from\n",
    "# it. Print the modified string without spaces.\n",
    "s = input(\"Enter the string:\")\n",
    "ms = s.replace(\" \",\"\")\n",
    "print(\"Modified string without spaces :\" , ms)\n",
    "\n"
   ]
  }
 ],
 "metadata": {
  "kernelspec": {
   "display_name": "Python 3 (ipykernel)",
   "language": "python",
   "name": "python3"
  },
  "language_info": {
   "codemirror_mode": {
    "name": "ipython",
    "version": 3
   },
   "file_extension": ".py",
   "mimetype": "text/x-python",
   "name": "python",
   "nbconvert_exporter": "python",
   "pygments_lexer": "ipython3",
   "version": "3.10.8"
  }
 },
 "nbformat": 4,
 "nbformat_minor": 5
}
